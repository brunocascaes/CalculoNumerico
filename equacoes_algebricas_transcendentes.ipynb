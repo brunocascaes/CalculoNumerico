{
  "nbformat": 4,
  "nbformat_minor": 0,
  "metadata": {
    "colab": {
      "name": "Bruno_Cascaes_Alves_Trabalho1.ipynb",
      "provenance": [],
      "collapsed_sections": [
        "yq6y4U0WMU7B",
        "5GQ5Bo2JFwzG",
        "Kez9v4gTgq6F",
        "1GXZcsVWppph"
      ]
    },
    "kernelspec": {
      "name": "python3",
      "display_name": "Python 3"
    }
  },
  "cells": [
    {
      "cell_type": "markdown",
      "metadata": {
        "id": "YyFT56MNg5kG"
      },
      "source": [
        "## Bibliotecas"
      ]
    },
    {
      "cell_type": "code",
      "metadata": {
        "id": "k2fnVwzeI24R"
      },
      "source": [
        "import matplotlib.pyplot as plt\n",
        "import numpy as np\n",
        "import sympy as sp\n",
        "import math"
      ],
      "execution_count": null,
      "outputs": []
    },
    {
      "cell_type": "markdown",
      "metadata": {
        "id": "s1xpyb6-Ef6h"
      },
      "source": [
        "## Método da Bissecção\n",
        "\n"
      ]
    },
    {
      "cell_type": "code",
      "metadata": {
        "id": "IapIpmzSEcsv"
      },
      "source": [
        "df_bisseccao = pd.DataFrame()\n",
        "def bisseccao(f, a0, b0, epsilon, iteracao, criterio):\n",
        "  a = a0\n",
        "  b = b0\n",
        "  if (f(a)*f(b) < 0):\n",
        "    colunas = ['n', 'a', 'b', 'x', 'f(x)', 'f(a)']\n",
        "    df_bisseccao = pd.DataFrame(columns=colunas)\n",
        "    k = 1\n",
        "    if (criterio == \"precisao\"):\n",
        "      if (b-a < epsilon):\n",
        "        x = b\n",
        "        df_bisseccao.loc[0] = [k, a, b, x, f(x), f(a)]        \n",
        "      while ((b-a) >= epsilon):\n",
        "        x = (a+b) / 2\n",
        "        tamanho = df_bisseccao.shape[0]\n",
        "        df_bisseccao.loc[tamanho] = [k, a, b, x, f(x), f(a)]\n",
        "        if (f(a)*f(x) > 0):\n",
        "          a = x\n",
        "        else:\n",
        "          b = x\n",
        "        k = k+1\n",
        "      x = b\n",
        "    else: #iteracao\n",
        "      while (k <= iteracao):\n",
        "        x = (a+b) / 2\n",
        "        tamanho = df_bisseccao.shape[0]\n",
        "        df_bisseccao.loc[tamanho] = [k, a, b, x, f(x), f(a)]\n",
        "        if (f(a)*f(x) > 0):\n",
        "          a = x\n",
        "        else:\n",
        "          b = x\n",
        "        k = k+1\n",
        "      x = b\n",
        "    print(df_bisseccao)\n",
        "    print(\"\\nRaiz: \", x)\n",
        "    print(\"Iterações: \", k-1)\n",
        "    return df_bisseccao['x']\n",
        "  else:\n",
        "    print(\"Não há raíz no intervalo.\")"
      ],
      "execution_count": null,
      "outputs": []
    },
    {
      "cell_type": "markdown",
      "metadata": {
        "id": "yq6y4U0WMU7B"
      },
      "source": [
        "## Método da Falsa Posição"
      ]
    },
    {
      "cell_type": "code",
      "metadata": {
        "id": "T9KNxUSpMUeD"
      },
      "source": [
        "def falsaPosicao(f, a0, b0, epsilon, iteracao, criterio):\n",
        "  a = a0\n",
        "  b = b0\n",
        "  if (f(a)*f(b) < 0):\n",
        "    colunas = ['n', 'a', 'b', 'x', 'f(x)', 'f(a)']\n",
        "    df_falsaPosicao = pd.DataFrame(columns=colunas)\n",
        "    k = 1\n",
        "    if (criterio == 'precisao'):\n",
        "      if (b-a < epsilon):\n",
        "        x = b\n",
        "        df_falsaPosicao.loc[0] = [k-1, a, b, x, f(x), f(a)]\n",
        "      while (b-a >= epsilon):\n",
        "        x = ((a*f(b)) - (b*f(a))) / (f(b) - f(a))\n",
        "        tamanho = df_falsaPosicao.shape[0]\n",
        "        df_falsaPosicao.loc[tamanho] = [k, a, b, x, f(x), f(a)]\n",
        "        if (f(a)*f(x) > 0):\n",
        "          a = x\n",
        "        else:\n",
        "          b = x\n",
        "        k = k+1\n",
        "        if (abs(f(x)) < epsilon):\n",
        "          break\n",
        "        else:\n",
        "          x = b\n",
        "    else: #iteracao\n",
        "      while (k <= iteracao):\n",
        "        x = ((a*f(b)) - (b*f(a))) / (f(b) - f(a))\n",
        "        tamanho = df_falsaPosicao.shape[0]\n",
        "        df_falsaPosicao.loc[tamanho] = [k, a, b, x, f(x), f(a)]\n",
        "        if (f(a)*f(x) > 0):\n",
        "          a = x\n",
        "        else:\n",
        "          b = x\n",
        "        k = k+1\n",
        "      x = b\n",
        "    print(df_falsaPosicao)\n",
        "    print(\"\\nRaiz: \", x)\n",
        "    print(\"Iterações: \", k-1)\n",
        "    return df_falsaPosicao['x']\n",
        "  else:\n",
        "    print(\"Não há raíz no intervalo.\")"
      ],
      "execution_count": null,
      "outputs": []
    },
    {
      "cell_type": "markdown",
      "metadata": {
        "id": "V8rWtin2loUx"
      },
      "source": [
        "## Método da Tangente"
      ]
    },
    {
      "cell_type": "code",
      "metadata": {
        "id": "SIkFsJcAl5_o"
      },
      "source": [
        "def tangente(f, x0, epsilon, iteracao, criterio):\n",
        "  sp.var('z')\n",
        "  k = 1\n",
        "  colunas = ['n', 'x', 'f(x)']\n",
        "  df_tangente = pd.DataFrame(columns=colunas)\n",
        "  if (criterio == 'precisao'):\n",
        "    if (abs(f(x0)) < epsilon):\n",
        "      x = x0\n",
        "      df_tangente.loc[0] = [k, x, f(x)]\n",
        "    else:\n",
        "      while (1):\n",
        "        derivada = sp.diff(f(z), z).subs(z, x0)\n",
        "        x1 = x0 - (f(x0) / derivada)\n",
        "        x1 = sp.N(x1)\n",
        "        x = x1\n",
        "        tamanho = df_tangente.shape[0]\n",
        "        df_tangente.loc[tamanho] = [k, x, f(x)]\n",
        "        k = k+1\n",
        "        if (abs(f(x1)) < epsilon or abs(x1-x0) < epsilon):\n",
        "          break\n",
        "        x0 = x1\n",
        "  else: # iteracao\n",
        "    while (k <= iteracao):\n",
        "      derivada = sp.diff(f(z), z).subs(z, x0)\n",
        "      x1 = x0 - (f(x0) / derivada)\n",
        "      x0 = x1\n",
        "      k = k+1\n",
        "      x = x1\n",
        "      tamanho = df_tangente.shape[0]\n",
        "      df_tangente.loc[tamanho] = [k, x, f(x)]\n",
        "  print(df_tangente)\n",
        "  print(\"\\nRaiz: \", x)\n",
        "  print(\"Iterações: \", k-1)\n",
        "  return df_tangente['x']"
      ],
      "execution_count": null,
      "outputs": []
    },
    {
      "cell_type": "markdown",
      "metadata": {
        "id": "5GQ5Bo2JFwzG"
      },
      "source": [
        "## Método da secante"
      ]
    },
    {
      "cell_type": "code",
      "metadata": {
        "id": "AYd8ayVf7Xe-"
      },
      "source": [
        "def secante(f, x0, x1, epsilon, iteracao, criterio):\n",
        "  k = 1\n",
        "  colunas = ['n', 'x', 'f(x)']\n",
        "  df_secante = pd.DataFrame(columns=colunas)\n",
        "  if (criterio == 'precisao'):\n",
        "    if (abs(f(x0)) < epsilon):\n",
        "      x = x0\n",
        "      df_secante.loc[0] = [k, x, f(x)]\n",
        "    elif (abs(f(x1)) < epsilon or abs(x1-x0) < epsilon):\n",
        "      x = x1\n",
        "      df_secante.loc[0] = [k, x, f(x)]\n",
        "    else:\n",
        "      while (1):\n",
        "        x2 = x1 - (f(x1) / (f(x1) - f(x0))) * (x1-x0)\n",
        "        x = x2\n",
        "        tamanho = df_secante.shape[0]\n",
        "        df_secante.loc[tamanho] = [k, x, f(x)]\n",
        "        k  = k+1\n",
        "        if (abs(f(x2)) < epsilon or abs(x2-x1) < epsilon):\n",
        "          break\n",
        "        x0 = x1\n",
        "        x1 = x2\n",
        "  else: # iteracao\n",
        "    while (k <= iteracao and x1 != x0):\n",
        "      x2 = x1 - (f(x1) / (f(x1) - f(x0))) * (x1-x0)\n",
        "      x = x2\n",
        "      tamanho = df_secante.shape[0]\n",
        "      df_secante.loc[tamanho] = [k, x, f(x)]\n",
        "      x0 = x1\n",
        "      x1 = x2\n",
        "      k  = k+1\n",
        "  print(df_secante)\n",
        "  print(\"\\nRaiz: \", x)\n",
        "  print(\"Iterações: \", k-1)\n",
        "  return df_secante['x']"
      ],
      "execution_count": null,
      "outputs": []
    },
    {
      "cell_type": "markdown",
      "metadata": {
        "id": "Kez9v4gTgq6F"
      },
      "source": [
        "## Gráfico"
      ]
    },
    {
      "cell_type": "code",
      "metadata": {
        "id": "Piab7OucZzYq"
      },
      "source": [
        "def grafico(f, raizes, metodo):\n",
        "  inicio = np.min(raizes) - 0.5\n",
        "  fim = np.max(raizes) + 0.5\n",
        "  n_ptos = 100\n",
        "  curva = np.linspace(float(inicio), float(fim), n_ptos)\n",
        "  valores = [f(valor) for valor in curva]\n",
        "  aproximado = [f(valor) for valor in raizes]\n",
        "  plt.plot(curva, valores, linestyle='-')\n",
        "  plt.plot(raizes, aproximado, 'x', marker='o', color = 'red',\n",
        "           label='' + str(len(raizes)) + ' iterações')\n",
        "  i = 0\n",
        "  for x, y in zip(raizes, aproximado):\n",
        "    i = i+1\n",
        "    plt.text(x, y, str(i))\n",
        "  leg = plt.legend()\n",
        "  plt.xlabel('x')\n",
        "  plt.ylabel('f(x)')\n",
        "  plt.title(metodo)\n",
        "  plt.grid()\n",
        "  plt.show()"
      ],
      "execution_count": null,
      "outputs": []
    },
    {
      "cell_type": "markdown",
      "metadata": {
        "id": "1GXZcsVWppph"
      },
      "source": [
        "## Questões"
      ]
    },
    {
      "cell_type": "markdown",
      "metadata": {
        "id": "uILmB5FYPlJ2"
      },
      "source": [
        "**Questão 1** – Determine a raiz da função f(x) = -12 – 21x + 18x2 – 2.75 x3 com o método da bissecção e da falsa posição. Utilize as aproximações iniciais a = -1 e b = 0 e um critério de parada de 1%."
      ]
    },
    {
      "cell_type": "code",
      "metadata": {
        "id": "5T-avmtwiv9s"
      },
      "source": [
        "f = lambda x: -12 - (21*x) + (18 * x**2) - (2.75 * x**3)"
      ],
      "execution_count": null,
      "outputs": []
    },
    {
      "cell_type": "code",
      "metadata": {
        "id": "ajKL2Uy4jnJk",
        "outputId": "1554f23a-9147-41af-802e-b79e3a4d1f8e",
        "colab": {
          "base_uri": "https://localhost:8080/",
          "height": 204
        }
      },
      "source": [
        "raizes = bisseccao(f, -1, 0, 0.01, None, 'precisao')"
      ],
      "execution_count": null,
      "outputs": [
        {
          "output_type": "stream",
          "text": [
            "     n         a        b         x      f(x)       f(a)\n",
            "0  1.0 -1.000000  0.00000 -0.500000  3.343750  29.750000\n",
            "1  2.0 -0.500000  0.00000 -0.250000 -5.582031   3.343750\n",
            "2  3.0 -0.500000 -0.25000 -0.375000 -1.448730   3.343750\n",
            "3  4.0 -0.500000 -0.37500 -0.437500  0.863098   3.343750\n",
            "4  5.0 -0.437500 -0.37500 -0.406250 -0.313667   0.863098\n",
            "5  6.0 -0.437500 -0.40625 -0.421875  0.269471   0.863098\n",
            "6  7.0 -0.421875 -0.40625 -0.414062 -0.023405   0.269471\n",
            "\n",
            "Raiz:  -0.4140625\n",
            "Iterações:  7\n"
          ],
          "name": "stdout"
        }
      ]
    },
    {
      "cell_type": "code",
      "metadata": {
        "id": "x7j3TcohqGcB",
        "outputId": "397bdeb2-ed66-4ef8-acec-a6b534736be3",
        "colab": {
          "base_uri": "https://localhost:8080/",
          "height": 187
        }
      },
      "source": [
        "raizes = falsaPosicao(f, -1, 0, 0.01, None, 'precisao')"
      ],
      "execution_count": null,
      "outputs": [
        {
          "output_type": "stream",
          "text": [
            "     n    a         b         x      f(x)   f(a)\n",
            "0  1.0 -1.0  0.000000 -0.287425 -4.411735  29.75\n",
            "1  2.0 -1.0 -0.287425 -0.379449 -1.289664  29.75\n",
            "2  3.0 -1.0 -0.379449 -0.405232 -0.351293  29.75\n",
            "3  4.0 -1.0 -0.405232 -0.412173 -0.093836  29.75\n",
            "4  5.0 -1.0 -0.412173 -0.414022 -0.024934  29.75\n",
            "5  6.0 -1.0 -0.414022 -0.414512 -0.006616  29.75\n",
            "\n",
            "Raiz:  -0.41451224401228687\n",
            "Iterações:  6\n"
          ],
          "name": "stdout"
        }
      ]
    },
    {
      "cell_type": "markdown",
      "metadata": {
        "id": "hgsshcPGirCw"
      },
      "source": [
        "**Questão 2** – Determine a raiz da função f(x) = ln(x2) - 0.7 com o método da bissecção e da falsa posição. Utilize três iterações e as aproximações iniciais a = 0.5 e b = 2."
      ]
    },
    {
      "cell_type": "code",
      "metadata": {
        "id": "kpXqeWF3jeXp"
      },
      "source": [
        "f = lambda x: math.log(x**2) - 0.7"
      ],
      "execution_count": null,
      "outputs": []
    },
    {
      "cell_type": "code",
      "metadata": {
        "id": "OrbitqmfkmYH",
        "outputId": "0b08d9ee-4fd6-4657-ee5d-5662521681a6",
        "colab": {
          "base_uri": "https://localhost:8080/",
          "height": 136
        }
      },
      "source": [
        "raizes = bisseccao(f, 0.5, 2, None, 3, 'iteracao')"
      ],
      "execution_count": null,
      "outputs": [
        {
          "output_type": "stream",
          "text": [
            "     n     a      b       x      f(x)      f(a)\n",
            "0  1.0  0.50  2.000  1.2500 -0.253713 -2.086294\n",
            "1  2.0  1.25  2.000  1.6250  0.271016 -0.253713\n",
            "2  3.0  1.25  1.625  1.4375  0.025811 -0.253713\n",
            "\n",
            "Raiz:  1.4375\n",
            "Iterações:  3\n"
          ],
          "name": "stdout"
        }
      ]
    },
    {
      "cell_type": "code",
      "metadata": {
        "id": "CenDts9Qkxbw",
        "outputId": "0bf18d30-e5ba-4fbc-f918-be0f33bb20b5",
        "colab": {
          "base_uri": "https://localhost:8080/",
          "height": 136
        }
      },
      "source": [
        "raizes = falsaPosicao(f, 0.5, 2, None, 3, 'iteracao')"
      ],
      "execution_count": null,
      "outputs": [
        {
          "output_type": "stream",
          "text": [
            "     n    a         b         x      f(x)      f(a)\n",
            "0  1.0  0.5  2.000000  1.628707  0.275573 -2.086294\n",
            "1  2.0  0.5  1.628707  1.497014  0.106945 -2.086294\n",
            "2  3.0  0.5  1.497014  1.448399  0.040917 -2.086294\n",
            "\n",
            "Raiz:  1.4483985429092026\n",
            "Iterações:  3\n"
          ],
          "name": "stdout"
        }
      ]
    },
    {
      "cell_type": "markdown",
      "metadata": {
        "id": "FkYnFjb2lT7r"
      },
      "source": [
        "**Questão 3** – Determine a maior raiz real de f(x) = 0.95x3 - 5.9x2 + 10.9x – 6\n",
        "\n",
        "a) Graficamente\n",
        "\n",
        "b) Usando o método da tangente (três iterações, x0 = 3.5)\n",
        "\n",
        "c) Usando o método da secante (três iterações, x0 = 2.5 e x1= 3.5)"
      ]
    },
    {
      "cell_type": "code",
      "metadata": {
        "id": "rJKyw1UICYYe"
      },
      "source": [
        "f = lambda x: (0.95*x**3) - (5.9*x**2) + (10.9*x) - 6"
      ],
      "execution_count": null,
      "outputs": []
    },
    {
      "cell_type": "code",
      "metadata": {
        "id": "qJl7L4sGCydk",
        "outputId": "ddc4f181-f24c-4d7a-94e4-220bcc012944",
        "colab": {
          "base_uri": "https://localhost:8080/",
          "height": 414
        }
      },
      "source": [
        "raizes = tangente(f, 3.5, None, 3, 'iteracao')\n",
        "grafico(f, raizes, 'Método da Tangente')"
      ],
      "execution_count": null,
      "outputs": [
        {
          "output_type": "stream",
          "text": [
            "   n                 x                 f(x)\n",
            "0  2  3.36565096952909   0.0712486657439797\n",
            "1  3  3.34511227577680  0.00154923928209172\n",
            "2  4  3.34464543173747  7.91815779166427e-7\n",
            "\n",
            "Raiz:  3.34464543173747\n",
            "Iterações:  3\n"
          ],
          "name": "stdout"
        },
        {
          "output_type": "display_data",
          "data": {
            "image/png": "[encoded data removed]",
            "text/plain": [
              "<Figure size 432x288 with 1 Axes>"
            ]
          },
          "metadata": {
            "tags": [],
            "needs_background": "light"
          }
        }
      ]
    },
    {
      "cell_type": "code",
      "metadata": {
        "id": "q32UrzOfi0E2",
        "outputId": "b12bb72a-c7d4-4321-a686-aeedfedd915c",
        "colab": {
          "base_uri": "https://localhost:8080/",
          "height": 414
        }
      },
      "source": [
        "raizes = secante(f, 2.5, 3.5, None, 3, 'iteracao')\n",
        "grafico(f, raizes, 'Método da Secante')"
      ],
      "execution_count": null,
      "outputs": [
        {
          "output_type": "stream",
          "text": [
            "     n         x      f(x)\n",
            "0  1.0  3.063063 -0.666700\n",
            "1  2.0  3.291906 -0.164874\n",
            "2  3.0  3.367092  0.076256\n",
            "\n",
            "Raiz:  3.3670921038139405\n",
            "Iterações:  3\n"
          ],
          "name": "stdout"
        },
        {
          "output_type": "display_data",
          "data": {
            "image/png": "[encoded data removed]",
            "text/plain": [
              "<Figure size 432x288 with 1 Axes>"
            ]
          },
          "metadata": {
            "tags": [],
            "needs_background": "light"
          }
        }
      ]
    },
    {
      "cell_type": "markdown",
      "metadata": {
        "id": "GE0uZ7SMnW7f"
      },
      "source": [
        "**Questão 4** – Determine a menor raiz real de f(x) = 8sen(x)e-x -1\n",
        "\n",
        "a) Graficamente\n",
        "\n",
        "b) Usando o método da tangente (três iterações, x0 = 0.3)\n",
        "\n",
        "c) Usando o método da secante (três iterações, x0 = 0.5 e x1= 0.4)"
      ]
    },
    {
      "cell_type": "code",
      "metadata": {
        "id": "fL_JmEehncTH"
      },
      "source": [
        "f = lambda x: 8 * sp.sin(x) * sp.exp(-x) - 1"
      ],
      "execution_count": null,
      "outputs": []
    },
    {
      "cell_type": "code",
      "metadata": {
        "id": "O_lYW6agn-8q",
        "outputId": "d32c5270-503c-453a-a7fe-821cc7aadf04",
        "colab": {
          "base_uri": "https://localhost:8080/",
          "height": 414
        }
      },
      "source": [
        "raizes = tangente(f, 0.3, None, 3, 'iteracao')\n",
        "grafico(f, raizes, 'Método da Tangente')"
      ],
      "execution_count": null,
      "outputs": [
        {
          "output_type": "stream",
          "text": [
            "   n                  x                  f(x)\n",
            "0  2  0.107843699702567    -0.226951594756040\n",
            "1  3  0.143486608396770  -0.00895208458248320\n",
            "2  4  0.145012084315025  -1.59531454574369e-5\n",
            "\n",
            "Raiz:  0.145012084315025\n",
            "Iterações:  3\n"
          ],
          "name": "stdout"
        },
        {
          "output_type": "display_data",
          "data": {
            "image/png": "[encoded data removed]",
            "text/plain": [
              "<Figure size 432x288 with 1 Axes>"
            ]
          },
          "metadata": {
            "tags": [],
            "needs_background": "light"
          }
        }
      ]
    },
    {
      "cell_type": "code",
      "metadata": {
        "id": "V6d_VFJ_u0NL",
        "outputId": "a9d49aba-0379-46cb-ef9a-e3ba080f12d1",
        "colab": {
          "base_uri": "https://localhost:8080/",
          "height": 414
        }
      },
      "source": [
        "raizes = secante(f, 0.5, 0.4, None, 3, 'iteracao')\n",
        "grafico(f, raizes, 'Método da Secante')"
      ],
      "execution_count": null,
      "outputs": [
        {
          "output_type": "stream",
          "text": [
            "   n                    x                f(x)\n",
            "0  1  -0.0572392281231581   -1.48462438402679\n",
            "1  2    0.206598277095485   0.334744978337806\n",
            "2  3    0.158054929166216  0.0750927387144180\n",
            "\n",
            "Raiz:  0.158054929166216\n",
            "Iterações:  3\n"
          ],
          "name": "stdout"
        },
        {
          "output_type": "display_data",
          "data": {
            "image/png": "[encoded data removed]",
            "text/plain": [
              "<Figure size 432x288 with 1 Axes>"
            ]
          },
          "metadata": {
            "tags": [],
            "needs_background": "light"
          }
        }
      ]
    },
    {
      "cell_type": "markdown",
      "metadata": {
        "id": "1K-aQfLbF_Xd"
      },
      "source": [
        "**Questão 5** - O polinômio p(x) = x5 – 10/3 x3 + 5/21 x tem suas cinco raízes, todas no intervalo \\[-1, 1]\n",
        "\n",
        "a) Verifique que x1 ∈ \\[-1, -0.75], x2 ∈ \\[-0.75, -0.25], x3 ∈ \\[-0.25, 0.25], x4 ∈ \\[0.3, 0.8], x5 ∈ \\[0.8, 1]\n",
        "\n",
        "b) Encontre as raízes utilizando os método elencados abaixo, usando epsilon = 10^-5\n",
        "\n",
        "x1: Tangente x0 = -0.8\n",
        "\n",
        "x2: Bissecção a = -0.75 e b= -0.25\n",
        "\n",
        "x3: Falsa Posição a = -0.25 e b= 0.25\n",
        "\n",
        "x4: Secante x0 = 0.3 e x1= 0.8\n",
        "\n",
        "x5: Secante x0 = 0.8 e x1 =1\n"
      ]
    },
    {
      "cell_type": "code",
      "metadata": {
        "id": "h0BZebBfGRAe"
      },
      "source": [
        "f = lambda x: x**5 - (10/3)*x**3 + (5/21)*x"
      ],
      "execution_count": null,
      "outputs": []
    },
    {
      "cell_type": "code",
      "metadata": {
        "id": "UjL100hBHp3p",
        "outputId": "f7d24d49-36b1-48f9-90fc-2017425baa36",
        "colab": {
          "base_uri": "https://localhost:8080/",
          "height": 482
        }
      },
      "source": [
        "raizes = tangente(f, -0.8, 0.00001, None, 'precisao')\n",
        "raiz = raizes[len(raizes)-1]\n",
        "if (raiz >= -1 and raiz <= -0.75):\n",
        "  print(\"A raiz encontrada está no intervalo X1.\")\n",
        "else:\n",
        "  print(\"A raiz encontrada não está no intervalo X1.\")\n",
        "grafico(f, raizes, 'Método da Tangente')"
      ],
      "execution_count": null,
      "outputs": [
        {
          "output_type": "stream",
          "text": [
            "   n                   x                 f(x)\n",
            "0  1  -0.511099175849616    0.288468904095261\n",
            "1  2  -0.369201970207860   0.0729880184289255\n",
            "2  3  -0.298484238495179   0.0152057909373232\n",
            "3  4  -0.273684593039048  0.00163438572038459\n",
            "4  5  -0.270299964668665  2.89037248829005e-5\n",
            "5  6  -0.270237917557127  9.64521215673919e-9\n",
            "\n",
            "Raiz:  -0.270237917557127\n",
            "Iterações:  6\n",
            "A raiz encontrada não está no intervalo X1.\n"
          ],
          "name": "stdout"
        },
        {
          "output_type": "display_data",
          "data": {
            "image/png": "[encoded data removed]",
            "text/plain": [
              "<Figure size 432x288 with 1 Axes>"
            ]
          },
          "metadata": {
            "tags": [],
            "needs_background": "light"
          }
        }
      ]
    },
    {
      "cell_type": "code",
      "metadata": {
        "id": "IMd51ztsGnUr",
        "outputId": "4523e0cb-f861-402b-d61c-fd77c48b2715",
        "colab": {
          "base_uri": "https://localhost:8080/",
          "height": 652
        }
      },
      "source": [
        "raizes = bisseccao(f, -0.75, -0.25, 0.00001, None, 'precisao')\n",
        "raiz = raizes[len(raizes)-1]\n",
        "if (raiz >= -0.75 and raiz <= -0.25):\n",
        "  print(\"A raiz encontrada está no intervalo X2.\")\n",
        "else:\n",
        "  print(\"A raiz encontrada não está no intervalo X2.\")\n",
        "grafico(f, raizes, 'Método da Bissecção')"
      ],
      "execution_count": null,
      "outputs": [
        {
          "output_type": "stream",
          "text": [
            "       n         a         b         x      f(x)      f(a)\n",
            "0    1.0 -0.750000 -0.250000 -0.500000  0.266369  0.990374\n",
            "1    2.0 -0.500000 -0.250000 -0.375000  0.079080  0.266369\n",
            "2    3.0 -0.375000 -0.250000 -0.312500  0.024340  0.079080\n",
            "3    4.0 -0.312500 -0.250000 -0.281250  0.005434  0.024340\n",
            "4    5.0 -0.281250 -0.250000 -0.265625 -0.002094  0.005434\n",
            "5    6.0 -0.281250 -0.265625 -0.273438  0.001515  0.005434\n",
            "6    7.0 -0.273438 -0.265625 -0.269531 -0.000328  0.001515\n",
            "7    8.0 -0.273438 -0.269531 -0.271484  0.000584  0.001515\n",
            "8    9.0 -0.271484 -0.269531 -0.270508  0.000126  0.000584\n",
            "9   10.0 -0.270508 -0.269531 -0.270020 -0.000102  0.000126\n",
            "10  11.0 -0.270508 -0.270020 -0.270264  0.000012  0.000126\n",
            "11  12.0 -0.270264 -0.270020 -0.270142 -0.000045  0.000012\n",
            "12  13.0 -0.270264 -0.270142 -0.270203 -0.000016  0.000012\n",
            "13  14.0 -0.270264 -0.270203 -0.270233 -0.000002  0.000012\n",
            "14  15.0 -0.270264 -0.270233 -0.270248  0.000005  0.000012\n",
            "15  16.0 -0.270248 -0.270233 -0.270241  0.000001  0.000005\n",
            "\n",
            "Raiz:  -0.270233154296875\n",
            "Iterações:  16\n",
            "A raiz encontrada está no intervalo X2.\n"
          ],
          "name": "stdout"
        },
        {
          "output_type": "display_data",
          "data": {
            "image/png": "[encoded data removed]",
            "text/plain": [
              "<Figure size 432x288 with 1 Axes>"
            ]
          },
          "metadata": {
            "tags": [],
            "needs_background": "light"
          }
        }
      ]
    },
    {
      "cell_type": "code",
      "metadata": {
        "id": "wFXa7ikFH6wJ",
        "outputId": "5734ff9a-bfba-4162-c4ab-0fee320f61ea",
        "colab": {
          "base_uri": "https://localhost:8080/",
          "height": 397
        }
      },
      "source": [
        "raizes = falsaPosicao(f, -0.25, 0.25, 0.00001, None, 'precisao')\n",
        "raiz = raizes[len(raizes)-1]\n",
        "if (raiz >= -0.25 and raiz <= 0.25):\n",
        "  print(\"A raiz encontrada está no intervalo X3.\")\n",
        "else:\n",
        "  print(\"A raiz encontrada não está no intervalo X3.\")\n",
        "grafico(f, raizes, 'Método da Falsa Posição')"
      ],
      "execution_count": null,
      "outputs": [
        {
          "output_type": "stream",
          "text": [
            "     n     a     b    x  f(x)      f(a)\n",
            "0  1.0 -0.25  0.25  0.0   0.0 -0.008417\n",
            "\n",
            "Raiz:  0.0\n",
            "Iterações:  1\n",
            "A raiz encontrada está no intervalo X3.\n"
          ],
          "name": "stdout"
        },
        {
          "output_type": "display_data",
          "data": {
            "image/png": "[encoded data removed]",
            "text/plain": [
              "<Figure size 432x288 with 1 Axes>"
            ]
          },
          "metadata": {
            "tags": [],
            "needs_background": "light"
          }
        }
      ]
    },
    {
      "cell_type": "code",
      "metadata": {
        "id": "4-mfxb2pIDU5",
        "outputId": "2cc8a464-2984-436c-d624-508fa92d55e0",
        "colab": {
          "base_uri": "https://localhost:8080/",
          "height": 465
        }
      },
      "source": [
        "raizes = secante(f, 0.3, 0.8, 0.00001, None, 'precisao')\n",
        "raiz = raizes[len(raizes)-1]\n",
        "if (raiz >= 0.3 and raiz <= 0.8):\n",
        "  print(\"A raiz encontrada está no intervalo X4.\")\n",
        "else:\n",
        "  print(\"A raiz encontrada não está no intervalo X4.\")\n",
        "grafico(f, raizes, 'Método da Secante')"
      ],
      "execution_count": null,
      "outputs": [
        {
          "output_type": "stream",
          "text": [
            "     n         x          f(x)\n",
            "0  1.0  0.293116 -1.199219e-02\n",
            "1  2.0  0.287949 -9.045197e-03\n",
            "2  3.0  0.272091 -8.714221e-04\n",
            "3  4.0  0.270401 -7.582963e-05\n",
            "4  5.0  0.270240 -7.490551e-07\n",
            "\n",
            "Raiz:  0.27023950588172285\n",
            "Iterações:  5\n",
            "A raiz encontrada não está no intervalo X4.\n"
          ],
          "name": "stdout"
        },
        {
          "output_type": "display_data",
          "data": {
            "image/png": "[encoded data removed]",
            "text/plain": [
              "<Figure size 432x288 with 1 Axes>"
            ]
          },
          "metadata": {
            "tags": [],
            "needs_background": "light"
          }
        }
      ]
    },
    {
      "cell_type": "code",
      "metadata": {
        "id": "oRdBd6pxIOQl",
        "outputId": "19c1ea93-619f-4625-c8f6-1e18ab9982c4",
        "colab": {
          "base_uri": "https://localhost:8080/",
          "height": 516
        }
      },
      "source": [
        "raizes = secante(f, 0.8, 1, 0.00001, None, 'precisao')\n",
        "raiz = raizes[len(raizes)-1]\n",
        "if (raiz >= 0.8 and raiz <= 1):\n",
        "  print(\"A raiz encontrada está no intervalo X5.\")\n",
        "else:\n",
        "  print(\"A raiz encontrada não está no intervalo X5.\")\n",
        "grafico(f, raizes, 'Método da Secante')"
      ],
      "execution_count": null,
      "outputs": [
        {
          "output_type": "stream",
          "text": [
            "     n         x          f(x)\n",
            "0  1.0  0.537846 -3.455578e-01\n",
            "1  2.0  0.446572 -1.727736e-01\n",
            "2  3.0  0.355303 -5.925366e-02\n",
            "3  4.0  0.307664 -2.106527e-02\n",
            "4  5.0  0.281385 -5.504324e-03\n",
            "5  6.0  0.272090 -8.708172e-04\n",
            "6  7.0  0.270343 -4.897793e-05\n",
            "7  8.0  0.270239 -4.837486e-07\n",
            "\n",
            "Raiz:  0.27023893598060006\n",
            "Iterações:  8\n",
            "A raiz encontrada não está no intervalo X5.\n"
          ],
          "name": "stdout"
        },
        {
          "output_type": "display_data",
          "data": {
            "image/png": "[encoded data removed]",
            "text/plain": [
              "<Figure size 432x288 with 1 Axes>"
            ]
          },
          "metadata": {
            "tags": [],
            "needs_background": "light"
          }
        }
      ]
    },
    {
      "cell_type": "markdown",
      "metadata": {
        "id": "TdbFcKd2GYXP"
      },
      "source": [
        "**Questão 6** – Compare o desempenho dos métodos da Bissecção, Falsa Posição, Secante e Tangente nas equações abaixo:"
      ]
    },
    {
      "cell_type": "markdown",
      "metadata": {
        "id": "wwWpgoxX5hYv"
      },
      "source": [
        "a) f(x) = e-x2 - cos(x)\n",
        "\n",
        "epsilon1 = epsilon2 = 0.0001\n",
        "\n",
        "\\[1,2]"
      ]
    },
    {
      "cell_type": "code",
      "metadata": {
        "id": "13BfkdBi5gvQ"
      },
      "source": [
        "f = lambda x: math.exp(-x**2) - math.cos(x)"
      ],
      "execution_count": null,
      "outputs": []
    },
    {
      "cell_type": "code",
      "metadata": {
        "id": "kWUfvhIX583z",
        "outputId": "b1755ce6-2dd2-4e66-e1c1-bdbe7c9f4343",
        "colab": {
          "base_uri": "https://localhost:8080/",
          "height": 323
        }
      },
      "source": [
        "raizes = bisseccao(f, 1, 2, 0.0001, None, 'precisao')"
      ],
      "execution_count": null,
      "outputs": [
        {
          "output_type": "stream",
          "text": [
            "       n         a         b         x      f(x)      f(a)\n",
            "0    1.0  1.000000  2.000000  1.500000  0.034662 -0.172423\n",
            "1    2.0  1.000000  1.500000  1.250000 -0.105711 -0.172423\n",
            "2    3.0  1.250000  1.500000  1.375000 -0.043570 -0.105711\n",
            "3    4.0  1.375000  1.500000  1.437500 -0.006262 -0.043570\n",
            "4    5.0  1.437500  1.500000  1.468750  0.013776 -0.006262\n",
            "5    6.0  1.437500  1.468750  1.453125  0.003648 -0.006262\n",
            "6    7.0  1.437500  1.453125  1.445312 -0.001335 -0.006262\n",
            "7    8.0  1.445312  1.453125  1.449219  0.001149 -0.001335\n",
            "8    9.0  1.445312  1.449219  1.447266 -0.000095 -0.001335\n",
            "9   10.0  1.447266  1.449219  1.448242  0.000527 -0.000095\n",
            "10  11.0  1.447266  1.448242  1.447754  0.000216 -0.000095\n",
            "11  12.0  1.447266  1.447754  1.447510  0.000061 -0.000095\n",
            "12  13.0  1.447266  1.447510  1.447388 -0.000017 -0.000095\n",
            "13  14.0  1.447388  1.447510  1.447449  0.000022 -0.000017\n",
            "\n",
            "Raiz:  1.44744873046875\n",
            "Iterações:  14\n"
          ],
          "name": "stdout"
        }
      ]
    },
    {
      "cell_type": "code",
      "metadata": {
        "id": "VFnZb2xh_MHg",
        "outputId": "a22fa964-3b3a-4a26-fdc2-85e89c9e8290",
        "colab": {
          "base_uri": "https://localhost:8080/",
          "height": 187
        }
      },
      "source": [
        "raizes = falsaPosicao(f, 1, 2, 0.0001, None, 'precisao')"
      ],
      "execution_count": null,
      "outputs": [
        {
          "output_type": "stream",
          "text": [
            "     n         a    b         x      f(x)      f(a)\n",
            "0  1.0  1.000000  2.0  1.284111 -0.090521 -0.172423\n",
            "1  2.0  1.284111  2.0  1.407549 -0.024619 -0.090521\n",
            "2  3.0  1.407549  2.0  1.439320 -0.005119 -0.024619\n",
            "3  4.0  1.439320  2.0  1.445849 -0.000994 -0.005119\n",
            "4  5.0  1.445849  2.0  1.447115 -0.000190 -0.000994\n",
            "5  6.0  1.447115  2.0  1.447357 -0.000036 -0.000190\n",
            "\n",
            "Raiz:  1.4473570678005703\n",
            "Iterações:  6\n"
          ],
          "name": "stdout"
        }
      ]
    },
    {
      "cell_type": "code",
      "metadata": {
        "id": "mBD98qztBvZD",
        "outputId": "d467fb01-930b-4a2f-c8e6-ea03694c0850",
        "colab": {
          "base_uri": "https://localhost:8080/",
          "height": 170
        }
      },
      "source": [
        "raizes = secante(f, 1, 2, 0.0001, None, 'precisao')"
      ],
      "execution_count": null,
      "outputs": [
        {
          "output_type": "stream",
          "text": [
            "     n         x          f(x)\n",
            "0  1.0  1.284111 -9.052096e-02\n",
            "1  2.0  1.407549 -2.461864e-02\n",
            "2  3.0  1.453661  3.991428e-03\n",
            "3  4.0  1.447228 -1.185297e-04\n",
            "4  5.0  1.447413 -5.242250e-07\n",
            "\n",
            "Raiz:  1.4474134472158682\n",
            "Iterações:  5\n"
          ],
          "name": "stdout"
        }
      ]
    },
    {
      "cell_type": "code",
      "metadata": {
        "id": "D80MaRsc_X_K",
        "outputId": "48dd3c86-d411-426c-ee60-9f864a3beca7",
        "colab": {
          "base_uri": "https://localhost:8080/",
          "height": 136
        }
      },
      "source": [
        "f = lambda x: sp.exp(-x**2) - sp.cos(x)\n",
        "raizes = tangente(f, 2, 0.0001, None, 'precisao')"
      ],
      "execution_count": null,
      "outputs": [
        {
          "output_type": "stream",
          "text": [
            "   n                 x                  f(x)\n",
            "0  1  1.48032972024778    0.0214195905966133\n",
            "1  2  1.44812072767633  0.000449627254158494\n",
            "2  3  1.44741462688482   2.26201943218096e-7\n",
            "\n",
            "Raiz:  1.44741462688482\n",
            "Iterações:  3\n"
          ],
          "name": "stdout"
        }
      ]
    },
    {
      "cell_type": "markdown",
      "metadata": {
        "id": "HQQH-1zkEtC7"
      },
      "source": [
        "a) f(x) = x3 – x – 1\n",
        "\n",
        "epsilon1 = epsilon2 = 0.000001\n",
        "\n",
        "\\[1,2]"
      ]
    },
    {
      "cell_type": "code",
      "metadata": {
        "id": "32Q56MJBE3ug"
      },
      "source": [
        "f = lambda x: x**3 - x - 1"
      ],
      "execution_count": null,
      "outputs": []
    },
    {
      "cell_type": "code",
      "metadata": {
        "id": "e1dS0la8E-Iq",
        "outputId": "c52eb702-d32b-4436-99f5-5cf6e81abb23",
        "colab": {
          "base_uri": "https://localhost:8080/",
          "height": 425
        }
      },
      "source": [
        "raizes = bisseccao(f, 1, 2, 0.000001, None, 'precisao')"
      ],
      "execution_count": null,
      "outputs": [
        {
          "output_type": "stream",
          "text": [
            "       n         a         b         x      f(x)      f(a)\n",
            "0    1.0  1.000000  2.000000  1.500000  0.875000 -1.000000\n",
            "1    2.0  1.000000  1.500000  1.250000 -0.296875 -1.000000\n",
            "2    3.0  1.250000  1.500000  1.375000  0.224609 -0.296875\n",
            "3    4.0  1.250000  1.375000  1.312500 -0.051514 -0.296875\n",
            "4    5.0  1.312500  1.375000  1.343750  0.082611 -0.051514\n",
            "5    6.0  1.312500  1.343750  1.328125  0.014576 -0.051514\n",
            "6    7.0  1.312500  1.328125  1.320312 -0.018711 -0.051514\n",
            "7    8.0  1.320312  1.328125  1.324219 -0.002128 -0.018711\n",
            "8    9.0  1.324219  1.328125  1.326172  0.006209 -0.002128\n",
            "9   10.0  1.324219  1.326172  1.325195  0.002037 -0.002128\n",
            "10  11.0  1.324219  1.325195  1.324707 -0.000047 -0.002128\n",
            "11  12.0  1.324707  1.325195  1.324951  0.000995 -0.000047\n",
            "12  13.0  1.324707  1.324951  1.324829  0.000474 -0.000047\n",
            "13  14.0  1.324707  1.324829  1.324768  0.000214 -0.000047\n",
            "14  15.0  1.324707  1.324768  1.324738  0.000084 -0.000047\n",
            "15  16.0  1.324707  1.324738  1.324722  0.000018 -0.000047\n",
            "16  17.0  1.324707  1.324722  1.324715 -0.000014 -0.000047\n",
            "17  18.0  1.324715  1.324722  1.324718  0.000002 -0.000014\n",
            "18  19.0  1.324715  1.324718  1.324717 -0.000006 -0.000014\n",
            "19  20.0  1.324717  1.324718  1.324718 -0.000002 -0.000006\n",
            "\n",
            "Raiz:  1.3247184753417969\n",
            "Iterações:  20\n"
          ],
          "name": "stdout"
        }
      ]
    },
    {
      "cell_type": "code",
      "metadata": {
        "id": "q9wdB8vDFJSd",
        "outputId": "3de8cadd-1a8f-4ae9-af53-f27ebfdb6067",
        "colab": {
          "base_uri": "https://localhost:8080/",
          "height": 374
        }
      },
      "source": [
        "raizes = falsaPosicao(f, 1, 2, 0.000001, None, 'precisao')"
      ],
      "execution_count": null,
      "outputs": [
        {
          "output_type": "stream",
          "text": [
            "       n         a    b         x          f(x)      f(a)\n",
            "0    1.0  1.000000  2.0  1.166667 -5.787037e-01 -1.000000\n",
            "1    2.0  1.166667  2.0  1.253112 -2.853630e-01 -0.578704\n",
            "2    3.0  1.253112  2.0  1.293437 -1.295421e-01 -0.285363\n",
            "3    4.0  1.293437  2.0  1.311281 -5.658849e-02 -0.129542\n",
            "4    5.0  1.311281  2.0  1.318989 -2.430375e-02 -0.056588\n",
            "5    6.0  1.318989  2.0  1.322283 -1.036185e-02 -0.024304\n",
            "6    7.0  1.322283  2.0  1.323684 -4.403950e-03 -0.010362\n",
            "7    8.0  1.323684  2.0  1.324279 -1.869258e-03 -0.004404\n",
            "8    9.0  1.324279  2.0  1.324532 -7.929592e-04 -0.001869\n",
            "9   10.0  1.324532  2.0  1.324639 -3.363010e-04 -0.000793\n",
            "10  11.0  1.324639  2.0  1.324685 -1.426137e-04 -0.000336\n",
            "11  12.0  1.324685  2.0  1.324704 -6.047499e-05 -0.000143\n",
            "12  13.0  1.324704  2.0  1.324712 -2.564380e-05 -0.000060\n",
            "13  14.0  1.324712  2.0  1.324715 -1.087390e-05 -0.000026\n",
            "14  15.0  1.324715  2.0  1.324717 -4.610916e-06 -0.000011\n",
            "15  16.0  1.324717  2.0  1.324717 -1.955187e-06 -0.000005\n",
            "16  17.0  1.324717  2.0  1.324718 -8.290661e-07 -0.000002\n",
            "\n",
            "Raiz:  1.3247177628396751\n",
            "Iterações:  17\n"
          ],
          "name": "stdout"
        }
      ]
    },
    {
      "cell_type": "code",
      "metadata": {
        "id": "fm-yKXSBFPLq",
        "outputId": "aeea1a4e-8eea-459c-9040-1e49d4bbf88f",
        "colab": {
          "base_uri": "https://localhost:8080/",
          "height": 187
        }
      },
      "source": [
        "raizes = secante(f, 1, 2, 0.000001, None, 'precisao')"
      ],
      "execution_count": null,
      "outputs": [
        {
          "output_type": "stream",
          "text": [
            "     n         x          f(x)\n",
            "0  1.0  1.166667 -5.787037e-01\n",
            "1  2.0  1.253112 -2.853630e-01\n",
            "2  3.0  1.337206  5.388059e-02\n",
            "3  4.0  1.323850 -3.698115e-03\n",
            "4  5.0  1.324708 -4.273426e-05\n",
            "5  6.0  1.324718  3.458222e-08\n",
            "\n",
            "Raiz:  1.3247179653538177\n",
            "Iterações:  6\n"
          ],
          "name": "stdout"
        }
      ]
    },
    {
      "cell_type": "code",
      "metadata": {
        "id": "oBTKy43hFaSH",
        "outputId": "44660b53-83b5-485f-8c55-cefabbfa2006",
        "colab": {
          "base_uri": "https://localhost:8080/",
          "height": 170
        }
      },
      "source": [
        "raizes = tangente(f, 2, 0.000001, None, 'precisao')"
      ],
      "execution_count": null,
      "outputs": [
        {
          "output_type": "stream",
          "text": [
            "   n                 x                  f(x)\n",
            "0  1  1.54545454545455      1.14575507137491\n",
            "1  2  1.35961491591518     0.153704934480075\n",
            "2  3  1.32580134500585   0.00462491704782986\n",
            "3  4  1.32471904941713   4.65771910929114e-6\n",
            "4  5  1.32471795724586  4.74043027054449e-12\n",
            "\n",
            "Raiz:  1.32471795724586\n",
            "Iterações:  5\n"
          ],
          "name": "stdout"
        }
      ]
    },
    {
      "cell_type": "markdown",
      "metadata": {
        "id": "KsFKhOJ7FhVW"
      },
      "source": [
        "c) f(x) = 4sen(x) - ex\n",
        "\n",
        "epsilon1 = epsilon2 = 0.00001\n",
        "\n",
        "\\[0,1]"
      ]
    },
    {
      "cell_type": "code",
      "metadata": {
        "id": "7X8KcU83FyOU"
      },
      "source": [
        "f = lambda x: 4 * math.sin(x) - math.exp(x)"
      ],
      "execution_count": null,
      "outputs": []
    },
    {
      "cell_type": "code",
      "metadata": {
        "id": "6j4kchi-F6U_",
        "outputId": "f207b033-60c1-4073-b604-7b186842c4c8",
        "colab": {
          "base_uri": "https://localhost:8080/",
          "height": 374
        }
      },
      "source": [
        "raizes = bisseccao(f, 0, 1, 0.00001, None, 'precisao')"
      ],
      "execution_count": null,
      "outputs": [
        {
          "output_type": "stream",
          "text": [
            "       n         a         b         x      f(x)      f(a)\n",
            "0    1.0  0.000000  1.000000  0.500000  0.268981 -1.000000\n",
            "1    2.0  0.000000  0.500000  0.250000 -0.294410 -1.000000\n",
            "2    3.0  0.250000  0.500000  0.375000  0.010099 -0.294410\n",
            "3    4.0  0.250000  0.375000  0.312500 -0.137084 -0.294410\n",
            "4    5.0  0.312500  0.375000  0.343750 -0.062146 -0.137084\n",
            "5    6.0  0.343750  0.375000  0.359375 -0.025677 -0.062146\n",
            "6    7.0  0.359375  0.375000  0.367188 -0.007701 -0.025677\n",
            "7    8.0  0.367188  0.375000  0.371094  0.001221 -0.007701\n",
            "8    9.0  0.367188  0.371094  0.369141 -0.003235 -0.007701\n",
            "9   10.0  0.369141  0.371094  0.370117 -0.001006 -0.003235\n",
            "10  11.0  0.370117  0.371094  0.370605  0.000108 -0.001006\n",
            "11  12.0  0.370117  0.370605  0.370361 -0.000449 -0.001006\n",
            "12  13.0  0.370361  0.370605  0.370483 -0.000170 -0.000449\n",
            "13  14.0  0.370483  0.370605  0.370544 -0.000031 -0.000170\n",
            "14  15.0  0.370544  0.370605  0.370575  0.000038 -0.000031\n",
            "15  16.0  0.370544  0.370575  0.370560  0.000004 -0.000031\n",
            "16  17.0  0.370544  0.370560  0.370552 -0.000014 -0.000031\n",
            "\n",
            "Raiz:  0.3705596923828125\n",
            "Iterações:  17\n"
          ],
          "name": "stdout"
        }
      ]
    },
    {
      "cell_type": "code",
      "metadata": {
        "id": "iD0-9_5EGERQ",
        "outputId": "fa5f269a-eba8-4d73-d830-2d9c9d5163c9",
        "colab": {
          "base_uri": "https://localhost:8080/",
          "height": 221
        }
      },
      "source": [
        "raizes = falsaPosicao(f, 0, 1, 0.00001, None, 'precisao')"
      ],
      "execution_count": null,
      "outputs": [
        {
          "output_type": "stream",
          "text": [
            "     n    a         b         x      f(x)  f(a)\n",
            "0  1.0  0.0  1.000000  0.606943  0.446622  -1.0\n",
            "1  2.0  0.0  0.606943  0.419559  0.108139  -1.0\n",
            "2  3.0  0.0  0.419559  0.378615  0.018276  -1.0\n",
            "3  4.0  0.0  0.378615  0.371820  0.002875  -1.0\n",
            "4  5.0  0.0  0.371820  0.370754  0.000447  -1.0\n",
            "5  6.0  0.0  0.370754  0.370589  0.000069  -1.0\n",
            "6  7.0  0.0  0.370589  0.370563  0.000011  -1.0\n",
            "7  8.0  0.0  0.370563  0.370559  0.000002  -1.0\n",
            "\n",
            "Raiz:  0.37055882835462395\n",
            "Iterações:  8\n"
          ],
          "name": "stdout"
        }
      ]
    },
    {
      "cell_type": "code",
      "metadata": {
        "id": "EUjnObMnGPLx",
        "outputId": "f2606d2e-97ae-4da5-e450-39c3c8b4ef6d",
        "colab": {
          "base_uri": "https://localhost:8080/",
          "height": 204
        }
      },
      "source": [
        "raizes = secante(f, 0, 1, 0.00001, None, 'precisao')"
      ],
      "execution_count": null,
      "outputs": [
        {
          "output_type": "stream",
          "text": [
            "     n         x          f(x)\n",
            "0  1.0  0.606943  4.466222e-01\n",
            "1  2.0 -0.266518 -1.819540e+00\n",
            "2  3.0  0.434798  1.402583e-01\n",
            "3  4.0  0.384607  3.174169e-02\n",
            "4  5.0  0.369925 -1.443434e-03\n",
            "5  6.0  0.370564  1.309363e-05\n",
            "6  7.0  0.370558  5.260490e-09\n",
            "\n",
            "Raiz:  0.37055809827709907\n",
            "Iterações:  7\n"
          ],
          "name": "stdout"
        }
      ]
    },
    {
      "cell_type": "code",
      "metadata": {
        "id": "zUk3nnyTGZhb",
        "outputId": "3405955d-c276-4158-c4a4-8541f6be3b51",
        "colab": {
          "base_uri": "https://localhost:8080/",
          "height": 187
        }
      },
      "source": [
        "f = lambda x: 4 * sp.sin(x) - sp.exp(x)\n",
        "raizes = tangente(f, 1, 0.00001, None, 'precisao')"
      ],
      "execution_count": null,
      "outputs": [
        {
          "output_type": "stream",
          "text": [
            "   n                 x                   f(x)\n",
            "0  1  2.16250934793006      -5.37297827416597\n",
            "1  2  1.67066116421661      -1.33561057404816\n",
            "2  3  1.43693713306462     -0.243571253263243\n",
            "3  4  1.37064028058497    -0.0177289737036821\n",
            "4  5  1.36499874992076  -0.000124906338940356\n",
            "5  6  1.36495843578725   -6.36378727492115e-9\n",
            "\n",
            "Raiz:  1.36495843578725\n",
            "Iterações:  6\n"
          ],
          "name": "stdout"
        }
      ]
    },
    {
      "cell_type": "markdown",
      "metadata": {
        "id": "-czMTX9PGi6c"
      },
      "source": [
        "d) x log(x) -1\n",
        "\n",
        "epsilon1 = epsilon2 = 0.0000001\n",
        "\n",
        "\\[2,3]"
      ]
    },
    {
      "cell_type": "code",
      "metadata": {
        "id": "9vA4Nr59GvFA"
      },
      "source": [
        "f = lambda x: x * math.log(x) - 1"
      ],
      "execution_count": null,
      "outputs": []
    },
    {
      "cell_type": "code",
      "metadata": {
        "id": "_uMmDBHZG0V2",
        "outputId": "2631dcd7-fa49-4455-c27f-b1537b662de1",
        "colab": {
          "base_uri": "https://localhost:8080/",
          "height": 34
        }
      },
      "source": [
        "raizes = bisseccao(f, 2, 3, 0.0000001, None, 'precisao')"
      ],
      "execution_count": null,
      "outputs": [
        {
          "output_type": "stream",
          "text": [
            "Não há raíz no intervalo.\n"
          ],
          "name": "stdout"
        }
      ]
    },
    {
      "cell_type": "code",
      "metadata": {
        "id": "IirsT0HwG7Y5",
        "outputId": "492d5e6b-7660-4cb9-b3a2-2add4f5fe7c4",
        "colab": {
          "base_uri": "https://localhost:8080/",
          "height": 34
        }
      },
      "source": [
        "raizes = falsaPosicao(f, 2, 3, 0.0000001, None, 'precisao')"
      ],
      "execution_count": null,
      "outputs": [
        {
          "output_type": "stream",
          "text": [
            "Não há raíz no intervalo.\n"
          ],
          "name": "stdout"
        }
      ]
    },
    {
      "cell_type": "code",
      "metadata": {
        "id": "ml6tvh8WHDl4",
        "outputId": "3d8ef6f8-99b0-477a-8ed5-a0418cd408aa",
        "colab": {
          "base_uri": "https://localhost:8080/",
          "height": 153
        }
      },
      "source": [
        "raizes = secante(f, 2, 3, 0.0000001, None, 'precisao')"
      ],
      "execution_count": null,
      "outputs": [
        {
          "output_type": "stream",
          "text": [
            "     n         x          f(x)\n",
            "0  1.0  1.797703  5.437062e-02\n",
            "1  2.0  1.768539  8.339848e-03\n",
            "2  3.0  1.763256  5.123022e-05\n",
            "3  4.0  1.763223  4.918713e-08\n",
            "\n",
            "Raiz:  1.763222865738391\n",
            "Iterações:  4\n"
          ],
          "name": "stdout"
        }
      ]
    },
    {
      "cell_type": "code",
      "metadata": {
        "id": "-i8sgg2BHIu_",
        "outputId": "a6e9476c-dc2b-4aff-f35d-2f4a41aad887",
        "colab": {
          "base_uri": "https://localhost:8080/",
          "height": 153
        }
      },
      "source": [
        "f = lambda x: x * sp.log(x) - 1\n",
        "raizes = tangente(f, 3, 0.0000001, None, 'precisao')"
      ],
      "execution_count": null,
      "outputs": [
        {
          "output_type": "stream",
          "text": [
            "   n                 x                  f(x)\n",
            "0  1  1.90602143216202     0.229418226945079\n",
            "1  2  1.76655899466435   0.00523139540338025\n",
            "2  3  1.76322484333833   3.14837075832131e-6\n",
            "3  4  1.76322283435263  1.14441789378361e-12\n",
            "\n",
            "Raiz:  1.76322283435263\n",
            "Iterações:  4\n"
          ],
          "name": "stdout"
        }
      ]
    }
  ]
}
