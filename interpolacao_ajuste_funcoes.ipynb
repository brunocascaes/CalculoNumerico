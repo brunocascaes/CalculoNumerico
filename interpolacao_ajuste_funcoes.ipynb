{
  "nbformat": 4,
  "nbformat_minor": 0,
  "metadata": {
    "colab": {
      "name": "Bruno_Cascaes_Alves_Trabalho3.ipynb",
      "provenance": [],
      "collapsed_sections": [
        "xbxI85ON5VbI",
        "BKP-nVBVV5wk",
        "T1fqpAviV-AH",
        "2NzakrK2h39X",
        "Ox5lOo0THQdV",
        "hXC4R62sfafQ",
        "drZXjFHSfcr7",
        "dEFPlKBYf_X8",
        "COKLb6upoL58",
        "d3CvfJGQSlzq"
      ]
    },
    "kernelspec": {
      "name": "python3",
      "display_name": "Python 3"
    }
  },
  "cells": [
    {
      "cell_type": "markdown",
      "metadata": {
        "id": "xbxI85ON5VbI"
      },
      "source": [
        "## Bibliotecas"
      ]
    },
    {
      "cell_type": "code",
      "metadata": {
        "id": "IzKmo1Rt4uES"
      },
      "source": [
        "import numpy as np\n",
        "from numpy import linalg\n",
        "import math\n",
        "import matplotlib.pyplot as plt"
      ],
      "execution_count": null,
      "outputs": []
    },
    {
      "cell_type": "markdown",
      "metadata": {
        "id": "BKP-nVBVV5wk"
      },
      "source": [
        "## Forma de Lagrange"
      ]
    },
    {
      "cell_type": "code",
      "metadata": {
        "id": "pJ8EKk0hTUMc"
      },
      "source": [
        "def lagrange(m, x, y, z):\n",
        "  r = 0\n",
        "  for i in range(0, m):\n",
        "    c = 1\n",
        "    d = 1\n",
        "\n",
        "    for j in range(0, m):\n",
        "      if i != j:\n",
        "        c = c * (z - x[j])\n",
        "        d = d * (x[i] - x[j])\n",
        "    r = r + y[i] * c / d\n",
        "    \n",
        "  print(\"Estimativa com polinômio de grau \", m-1)\n",
        "  print(\"O valor de z interpolado é \", r)"
      ],
      "execution_count": null,
      "outputs": []
    },
    {
      "cell_type": "markdown",
      "metadata": {
        "id": "T1fqpAviV-AH"
      },
      "source": [
        "## Forma de Newton"
      ]
    },
    {
      "cell_type": "code",
      "metadata": {
        "id": "t3jsF2tWVdv3"
      },
      "source": [
        "def newton(m, x, y, z):\n",
        "  r = 0\n",
        "  dely = np.zeros(m)\n",
        "  for i in range(0, m):\n",
        "    dely[i] = y[i]\n",
        "  \n",
        "  for k in range(1, m):\n",
        "    for i in range(m, k, -1):\n",
        "      dely[i-1] = (dely[i-1] - dely[i-2]) / (x[i-1] - x[i-k-1])\n",
        "  \n",
        "  r = dely[m-1]\n",
        "\n",
        "  for i in range(m-1, 0, -1): \n",
        "    r = r * (z - x[i-1]) + dely[i-1]\n",
        "  \n",
        "  print(\"Estimativa com polinômio de grau \", m-1)\n",
        "  print(\"O valor de z interpolado é \", r)"
      ],
      "execution_count": null,
      "outputs": []
    },
    {
      "cell_type": "markdown",
      "metadata": {
        "id": "2NzakrK2h39X"
      },
      "source": [
        "## Spline"
      ]
    },
    {
      "cell_type": "code",
      "metadata": {
        "id": "OeuLqzdM3rHo"
      },
      "source": [
        "def spline(n, x, y):\n",
        "  n = n-1\n",
        "  h = np.zeros(n)\n",
        "  A = np.zeros(n)\n",
        "  l = np.zeros(n+1)\n",
        "  u = np.zeros(n+1)\n",
        "  z = np.zeros(n+1)\n",
        "  c = np.zeros(n+1)\n",
        "  b = np.zeros(n)\n",
        "  d = np.zeros(n)\n",
        "  resolucao = np.zeros(n)\n",
        "\n",
        "  a = y\n",
        "\n",
        "  for i in range(0, n):\n",
        "    h[i] = x[i+1] - x[i]\n",
        "\n",
        "  for i in range(1, n):\n",
        "    A[i] = A[i] = 3 * (a[i+1] - a[i]) / h[i] - 3 * (a[i] - a[i-1]) / h[i-1]\n",
        "\n",
        "  l[0] = 1\n",
        "  u[0] = 0\n",
        "  z[0] = 0\n",
        "\n",
        "  for i in range(1, n):\n",
        "    l[i] = 2 * (x[i+1] - x[i-1]) - h[i-1] * u[i-1];\n",
        "    u[i] = h[i] / l[i];\n",
        "    z[i] = (A[i] - h[i-1] * z[i-1]) / l[i];\n",
        "\n",
        "  l[n] = 1\n",
        "  z[n] = 0\n",
        "  c[n] = 0\n",
        "\n",
        "  for j in range(n-1, -1, -1):\n",
        "    c[j] = z[j] - u[j] * c[j+1];\n",
        "    b[j] = (a[j+1] - a[j]) / h[j] - h[j] * (c[j+1] + 2 * c[j]) / 3;\n",
        "    d[j] = (c[j+1] - c[j]) / (3 * h[j]);\n",
        "\n",
        "  print('i, ai, bi, ci, di')\n",
        "  for i in range(0, n):\n",
        "    print(i, a[i], b[i], c[i], d[i]);\n",
        "\n",
        "  pontos = 400\n",
        "\n",
        "  f = lambda x_in:  0.0185*x_in**5 - 0.4440*x_in**4 + 3.9125*x_in**3 - 15.4560*x_in**2 + 27.0690*x_in -14.1000\n",
        "  curva = np.linspace(1, 9, pontos)\n",
        "  valores = [f(valor) for valor in curva]\n",
        "  plt.plot(curva, valores, linestyle='-', color='blue')\n",
        "\n",
        "  for i in range(0, n):\n",
        "    s = lambda x_in: a[i] + b[i] * (x_in - x[i]) + c[i] * (x_in - x[i])**2 + d[i] * (x_in - x[i])**3\n",
        "    curva = np.linspace(x[i], x[i+1], pontos)\n",
        "    valores = [s(valor) for valor in curva]\n",
        "    if i%2 == 0:\n",
        "      plt.plot(curva, valores, linestyle='-', color='red')\n",
        "    else:\n",
        "      plt.plot(curva, valores, linestyle='-', color='green')\n",
        "\n",
        "  plt.grid()\n",
        "  plt.show()"
      ],
      "execution_count": null,
      "outputs": []
    },
    {
      "cell_type": "markdown",
      "metadata": {
        "id": "Ox5lOo0THQdV"
      },
      "source": [
        "## Aproximação Linear"
      ]
    },
    {
      "cell_type": "code",
      "metadata": {
        "id": "bLzxRNi4HTHb"
      },
      "source": [
        "def MMQ(n, x, y, inicio, fim):\n",
        "  sumx = 0\n",
        "  sumxy = 0\n",
        "  st = 0\n",
        "  sumy = 0\n",
        "  sumx2 = 0\n",
        "  sr = 0\n",
        "\n",
        "  for i in range(0, n):\n",
        "    sumx = sumx + x[i]\n",
        "    sumy = sumy + y[i]\n",
        "    sumxy = sumxy + x[i] * y[i] \n",
        "    sumx2 = sumx2 + x[i] * x[i] \n",
        "  \n",
        "  xm = sumx/n\n",
        "  ym = sumy/n\n",
        "  al = (n*sumxy - sumx*sumy) / (n*sumx2 - sumx*sumx)\n",
        "  a0 = ym - al*xm\n",
        "\n",
        "  for i in range(0, n):\n",
        "    st = st + (y[i] - ym)**2\n",
        "    sr = sr + (y[i] - al*x[i] - a0)**2\n",
        "  \n",
        "  syx = (sr / (n-2))**0.5\n",
        "  r2 = (st - sr) / st\n",
        "\n",
        "  a = al\n",
        "  b = a0\n",
        "  print(\"a =\", a)\n",
        "  print(\"b =\", b)\n",
        "\n",
        "  f = lambda x_in: a*x_in + b\n",
        "  curva = np.linspace(inicio, fim, 200)\n",
        "  valores = [f(valor) for valor in curva]\n",
        "  plt.plot(curva, valores, linestyle='-')\n",
        "  plt.scatter(x, y)\n",
        "  plt.grid()\n",
        "  plt.show()"
      ],
      "execution_count": null,
      "outputs": []
    },
    {
      "cell_type": "markdown",
      "metadata": {
        "id": "hXC4R62sfafQ"
      },
      "source": [
        "## Questões\n"
      ]
    },
    {
      "cell_type": "markdown",
      "metadata": {
        "id": "drZXjFHSfcr7"
      },
      "source": [
        "### Questão 1"
      ]
    },
    {
      "cell_type": "code",
      "metadata": {
        "id": "sgujr7QfW2fu",
        "outputId": "405363eb-f472-4249-b6b6-9f671045645b",
        "colab": {
          "base_uri": "https://localhost:8080/"
        }
      },
      "source": [
        "x = [200, 250, 300, 350, 400, 450]\n",
        "y = [1.708, 1.367, 1.139, 0.967, 0.854, 0.759]\n",
        "z = 330\n",
        "for i in range(2, 7):\n",
        "  lagrange(i, x[0:i], y[0:i], z)\n",
        "  print(\"------------------------------------\")"
      ],
      "execution_count": null,
      "outputs": [
        {
          "output_type": "stream",
          "text": [
            "Estimativa com polinômio de grau  1\n",
            "O valor de z interpolado é  0.8214000000000006\n",
            "------------------------------------\n",
            "Estimativa com polinômio de grau  2\n",
            "O valor de z interpolado é  1.0564400000000003\n",
            "------------------------------------\n",
            "Estimativa com polinômio de grau  3\n",
            "O valor de z interpolado é  1.032728\n",
            "------------------------------------\n",
            "Estimativa com polinômio de grau  4\n",
            "O valor de z interpolado é  1.030232\n",
            "------------------------------------\n",
            "Estimativa com polinômio de grau  5\n",
            "O valor de z interpolado é  1.029020608\n",
            "------------------------------------\n"
          ],
          "name": "stdout"
        }
      ]
    },
    {
      "cell_type": "code",
      "metadata": {
        "id": "h8TMeIRdcnZR",
        "outputId": "43ba0cb8-d49e-437d-9da2-59535ee795a6",
        "colab": {
          "base_uri": "https://localhost:8080/"
        }
      },
      "source": [
        "x = [200, 250, 300, 350, 400, 450]\n",
        "y = [1.708, 1.367, 1.139, 0.967, 0.854, 0.759]\n",
        "z = 330\n",
        "for i in range(2, 7):\n",
        "  newton(i, x[0:i], y[0:i], z)\n",
        "  print(\"------------------------------------\")"
      ],
      "execution_count": null,
      "outputs": [
        {
          "output_type": "stream",
          "text": [
            "Estimativa com polinômio de grau  1\n",
            "O valor de z interpolado é  0.8214\n",
            "------------------------------------\n",
            "Estimativa com polinômio de grau  2\n",
            "O valor de z interpolado é  1.0564399999999998\n",
            "------------------------------------\n",
            "Estimativa com polinômio de grau  3\n",
            "O valor de z interpolado é  1.032728\n",
            "------------------------------------\n",
            "Estimativa com polinômio de grau  4\n",
            "O valor de z interpolado é  1.0302319999999998\n",
            "------------------------------------\n",
            "Estimativa com polinômio de grau  5\n",
            "O valor de z interpolado é  1.029020608\n",
            "------------------------------------\n"
          ],
          "name": "stdout"
        }
      ]
    },
    {
      "cell_type": "code",
      "metadata": {
        "id": "0SgR09tNYz7n",
        "outputId": "46ec777c-bac6-4bb8-9808-552d07eb7573",
        "colab": {
          "base_uri": "https://localhost:8080/"
        }
      },
      "source": [
        "x = 330\n",
        "wolframalpha = -2.77333e-12 * x**5 + 4.56e-9 * x**4 - 2.97733e-6 * x**3 + 0.0009762 * x**2 - 0.165979 * x + 13.266\n",
        "wolframalpha"
      ],
      "execution_count": null,
      "outputs": [
        {
          "output_type": "execute_result",
          "data": {
            "text/plain": [
              "1.0292634431309953"
            ]
          },
          "metadata": {
            "tags": []
          },
          "execution_count": 8
        }
      ]
    },
    {
      "cell_type": "markdown",
      "metadata": {
        "id": "dEFPlKBYf_X8"
      },
      "source": [
        "### Questão 2"
      ]
    },
    {
      "cell_type": "code",
      "metadata": {
        "id": "WHXhJf7ZXWiY",
        "outputId": "1db9c1aa-a725-4078-891a-46f3611aafe1",
        "colab": {
          "base_uri": "https://localhost:8080/"
        }
      },
      "source": [
        "x = [0.25, 0.75, 1.25, 1.5, 2]\n",
        "y = [-0.45, -0.6, 0.7, 1.88, 6]\n",
        "z = 1.15\n",
        "for i in range(2, 6):\n",
        "  lagrange(i, x[0:i], y[0:i], z)\n",
        "  print(\"------------------------------------\")"
      ],
      "execution_count": null,
      "outputs": [
        {
          "output_type": "stream",
          "text": [
            "Estimativa com polinômio de grau  1\n",
            "O valor de z interpolado é  -0.72\n",
            "------------------------------------\n",
            "Estimativa com polinômio de grau  2\n",
            "O valor de z interpolado é  0.3239999999999996\n",
            "------------------------------------\n",
            "Estimativa com polinômio de grau  3\n",
            "O valor de z interpolado é  0.32611199999999974\n",
            "------------------------------------\n",
            "Estimativa com polinômio de grau  4\n",
            "O valor de z interpolado é  0.3372863999999998\n",
            "------------------------------------\n"
          ],
          "name": "stdout"
        }
      ]
    },
    {
      "cell_type": "code",
      "metadata": {
        "id": "WRBZ_lUUfE3Y",
        "outputId": "5cfb0bfa-a4de-4709-f6b6-732f7976511c",
        "colab": {
          "base_uri": "https://localhost:8080/"
        }
      },
      "source": [
        "x = [0.25, 0.75, 1.25, 1.5, 2]\n",
        "y = [-0.45, -0.6, 0.7, 1.88, 6]\n",
        "z = 1.15\n",
        "for i in range(2, 6):\n",
        "  newton(i, x[0:i], y[0:i], z)\n",
        "  print(\"------------------------------------\")"
      ],
      "execution_count": null,
      "outputs": [
        {
          "output_type": "stream",
          "text": [
            "Estimativa com polinômio de grau  1\n",
            "O valor de z interpolado é  -0.72\n",
            "------------------------------------\n",
            "Estimativa com polinômio de grau  2\n",
            "O valor de z interpolado é  0.32399999999999946\n",
            "------------------------------------\n",
            "Estimativa com polinômio de grau  3\n",
            "O valor de z interpolado é  0.32611199999999957\n",
            "------------------------------------\n",
            "Estimativa com polinômio de grau  4\n",
            "O valor de z interpolado é  0.3372863999999995\n",
            "------------------------------------\n"
          ],
          "name": "stdout"
        }
      ]
    },
    {
      "cell_type": "code",
      "metadata": {
        "id": "BFDXqX0aamwQ",
        "outputId": "b9602f6a-b966-462a-c809-341dd00189e8",
        "colab": {
          "base_uri": "https://localhost:8080/"
        }
      },
      "source": [
        "x = 1.15\n",
        "wolframalpha = 0.494286 - 5.40448 * x + 7.3 * x**2 - 3.38438 * x**3 + 0.886857 * x**4\n",
        "wolframalpha"
      ],
      "execution_count": null,
      "outputs": [
        {
          "output_type": "execute_result",
          "data": {
            "text/plain": [
              "0.33728350335624757"
            ]
          },
          "metadata": {
            "tags": []
          },
          "execution_count": 11
        }
      ]
    },
    {
      "cell_type": "markdown",
      "metadata": {
        "id": "COKLb6upoL58"
      },
      "source": [
        "### Questão 3"
      ]
    },
    {
      "cell_type": "markdown",
      "metadata": {
        "id": "Qvat2GRloO7S"
      },
      "source": [
        "Ajuste-o com splines cúbicos naturais. Faça um gráfico comparando o ajuste com a\n",
        "função."
      ]
    },
    {
      "cell_type": "code",
      "metadata": {
        "id": "8nc1cOQeoNHu",
        "outputId": "284dc5b7-a731-457a-b82a-729d5002cd52",
        "colab": {
          "base_uri": "https://localhost:8080/"
        }
      },
      "source": [
        "x = [1, 3, 5, 6, 7, 9]\n",
        "y = [1, 2.172, 4.22, 5.43, 4.912, 9.12]\n",
        "m = 6\n",
        "spline(m, x, y)"
      ],
      "execution_count": null,
      "outputs": [
        {
          "output_type": "stream",
          "text": [
            "i, ai, bi, ci, di\n",
            "0 1 0.5377012448132782 0.0 0.012074688796680472\n",
            "1 2.172 0.6825975103734438 0.07244813278008283 0.04912655601659755\n",
            "2 4.22 1.561908713692946 0.36720746887966815 -0.719116182572614\n",
            "3 5.43 0.1389751037344399 -1.790141078838174 1.1331659751037344\n",
            "4 4.912 -0.041809128630705406 1.6093568464730288 -0.26822614107883813\n"
          ],
          "name": "stdout"
        },
        {
          "output_type": "display_data",
          "data": {
            "image/png": "[encoded data removed]",
            "text/plain": [
              "<Figure size 432x288 with 1 Axes>"
            ]
          },
          "metadata": {
            "tags": [],
            "needs_background": "light"
          }
        }
      ]
    },
    {
      "cell_type": "markdown",
      "metadata": {
        "id": "d3CvfJGQSlzq"
      },
      "source": [
        "### Questão 4"
      ]
    },
    {
      "cell_type": "markdown",
      "metadata": {
        "id": "EhYFAkOzS39m"
      },
      "source": [
        "a) Faça o diagrama de dispersão dos dados e observe que parece existir uma\n",
        "relação linear entre a altura e o peso."
      ]
    },
    {
      "cell_type": "code",
      "metadata": {
        "id": "M4F5IR1nKHOd",
        "outputId": "1be82535-de09-4af5-f1c2-1580e1337eb8",
        "colab": {
          "base_uri": "https://localhost:8080/"
        }
      },
      "source": [
        "x = [183, 173, 168, 188, 158, 163, 193, 163, 178]\n",
        "y = [79, 69, 70, 81, 61, 63, 79, 71, 73]\n",
        "plt.scatter(x, y)\n",
        "plt.xlabel('altura (cm)')\n",
        "plt.ylabel('peso (kg)')\n",
        "plt.grid()\n",
        "plt.show()"
      ],
      "execution_count": null,
      "outputs": [
        {
          "output_type": "display_data",
          "data": {
            "image/png": "[encoded data removed]",
            "text/plain": [
              "<Figure size 432x288 with 1 Axes>"
            ]
          },
          "metadata": {
            "tags": [],
            "needs_background": "light"
          }
        }
      ]
    },
    {
      "cell_type": "markdown",
      "metadata": {
        "id": "VUR8A5bITNaU"
      },
      "source": [
        "b) Ajuste uma reta que descreva o comportamento do peso em função da altura,\n",
        "isto é, peso = f(altura)."
      ]
    },
    {
      "cell_type": "code",
      "metadata": {
        "id": "TTUxl2GkS9Cp",
        "outputId": "003e8ce2-a29f-41c6-84aa-6e651454baa5",
        "colab": {
          "base_uri": "https://localhost:8080/"
        }
      },
      "source": [
        "MMQ(9, x, y, 150, 200)"
      ],
      "execution_count": null,
      "outputs": [
        {
          "output_type": "stream",
          "text": [
            "a = 0.5275700934579439\n",
            "b = -20.078037383177573\n"
          ],
          "name": "stdout"
        },
        {
          "output_type": "display_data",
          "data": {
            "image/png": "[encoded data removed]",
            "text/plain": [
              "<Figure size 432x288 with 1 Axes>"
            ]
          },
          "metadata": {
            "tags": [],
            "needs_background": "light"
          }
        }
      ]
    },
    {
      "cell_type": "markdown",
      "metadata": {
        "id": "dV7_zpPBTSKe"
      },
      "source": [
        "c) Ajuste uma reta que descreva o comportamento da altura em função do peso,\n",
        "isto é, altura = g(peso)."
      ]
    },
    {
      "cell_type": "code",
      "metadata": {
        "id": "VpAiVALDTBoM",
        "outputId": "d862f95e-56f1-4b14-c785-1a5fe925286f",
        "colab": {
          "base_uri": "https://localhost:8080/"
        }
      },
      "source": [
        "MMQ(9, y, x, 55, 85)"
      ],
      "execution_count": null,
      "outputs": [
        {
          "output_type": "stream",
          "text": [
            "a = 1.5856741573033708\n",
            "b = 60.29494382022473\n"
          ],
          "name": "stdout"
        },
        {
          "output_type": "display_data",
          "data": {
            "image/png": "[encoded data removed]",
            "text/plain": [
              "<Figure size 432x288 with 1 Axes>"
            ]
          },
          "metadata": {
            "tags": [],
            "needs_background": "light"
          }
        }
      ]
    },
    {
      "cell_type": "markdown",
      "metadata": {
        "id": "5So1JJNzTheh"
      },
      "source": [
        "d) Coloque em um gráfico as equações obtidas em b e c, compare-as."
      ]
    },
    {
      "cell_type": "code",
      "metadata": {
        "id": "O-MtenN9TKKs",
        "outputId": "a9a82e4d-f803-4f42-de26-484bb16aa268",
        "colab": {
          "base_uri": "https://localhost:8080/"
        }
      },
      "source": [
        "a = 0.5275700934579439\n",
        "b = -20.078037383177573\n",
        "f = lambda x: a*x + b\n",
        "curva1 = np.linspace(0, 200, 200)\n",
        "valores1 = [f(valor) for valor in curva1]\n",
        "\n",
        "a = 1.5856741573033708\n",
        "b = 60.29494382022473\n",
        "f = lambda x: a*x + b\n",
        "curva2 = np.linspace(0, 200, 200)\n",
        "valores2 = [f(valor) for valor in curva2]\n",
        "\n",
        "plt.plot(curva1, valores1, linestyle='-', label='peso = f(altura')\n",
        "plt.plot(curva2, valores2, linestyle='-', label='altura = f(peso)')\n",
        "plt.legend()\n",
        "plt.grid()\n",
        "plt.show()"
      ],
      "execution_count": null,
      "outputs": [
        {
          "output_type": "display_data",
          "data": {
            "image/png": "[encoded data removed]",
            "text/plain": [
              "<Figure size 432x288 with 1 Axes>"
            ]
          },
          "metadata": {
            "tags": [],
            "needs_background": "light"
          }
        }
      ]
    }
  ]
}